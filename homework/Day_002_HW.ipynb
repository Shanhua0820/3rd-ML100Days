{
 "cells": [
  {
   "cell_type": "markdown",
   "metadata": {},
   "source": [
    "## [作業目標]\n",
    "了解機器學習適合應用的領域與範疇。"
   ]
  },
  {
   "cell_type": "markdown",
   "metadata": {},
   "source": [
    "## [作業重點]\n",
    "透過瞭解機器學習的運作方式，找出非常適用機器學習應用的領域及其原因"
   ]
  },
  {
   "cell_type": "markdown",
   "metadata": {},
   "source": [
    "## 作業\n",
    "請找出一個你認為機器學習可以發光發熱的領域並闡述原因? \n",
    "\n",
    "由於時代演變越來越多的事務處理流程以單純的「工人智慧」已經不足以滿足人類的需求\n",
    "進而越來越多人開始投入進行「人工智慧」的研究\n",
    "而實現的方式目前通常以「機器學習」作為手段\n",
    "透過機器學習的理念可得知運用各式不同的訓練方式來達成目標\n",
    "至於適合透過機器學的應用的領域這件事情在不同的環境跟角色上會有不同的選項\n",
    "例如：\n",
    "環保團體可能需要運用機器學習去做到垃圾分類資源回收等 屬於環境議題的領域\n",
    "學校團體可能需要運用機器學習使教師授課更便利 更能找出學生較容易學習的方式\n",
    "就做到透過機器學習提升人類學習力的境界 "
   ]
  },
  {
   "cell_type": "code",
   "execution_count": null,
   "metadata": {},
   "outputs": [],
   "source": [
    "   "
   ]
  }
 ],
 "metadata": {
  "kernelspec": {
   "display_name": "Python 3",
   "language": "python",
   "name": "python3"
  },
  "language_info": {
   "codemirror_mode": {
    "name": "ipython",
    "version": 3
   },
   "file_extension": ".py",
   "mimetype": "text/x-python",
   "name": "python",
   "nbconvert_exporter": "python",
   "pygments_lexer": "ipython3",
   "version": "3.7.3"
  }
 },
 "nbformat": 4,
 "nbformat_minor": 2
}
